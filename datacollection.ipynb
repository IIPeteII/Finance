{
 "cells": [
  {
   "attachments": {},
   "cell_type": "markdown",
   "metadata": {},
   "source": [
    "# Datacollection"
   ]
  },
  {
   "attachments": {},
   "cell_type": "markdown",
   "metadata": {},
   "source": [
    "## This file will extract data from yahoo finance and other sources"
   ]
  },
  {
   "cell_type": "code",
   "execution_count": null,
   "metadata": {},
   "outputs": [],
   "source": [
    "#COMMON\n",
    "import pandas as pd\n",
    "import numpy as np\n",
    "import matplotlib.pyplt as plt\n",
    "\n",
    "#FINANCE\n",
    "import yfinance as yf\n",
    "import finance as fin\n",
    "\n",
    "#TIMESERIES\n",
    "\n",
    "#ML\n"
   ]
  },
  {
   "cell_type": "markdown",
   "metadata": {},
   "source": []
  }
 ],
 "metadata": {
  "language_info": {
   "name": "python"
  },
  "orig_nbformat": 4
 },
 "nbformat": 4,
 "nbformat_minor": 2
}
