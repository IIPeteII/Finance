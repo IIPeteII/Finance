{
 "cells": [
  {
   "attachments": {},
   "cell_type": "markdown",
   "metadata": {},
   "source": [
    "# Datacollection"
   ]
  },
  {
   "attachments": {},
   "cell_type": "markdown",
   "metadata": {},
   "source": [
    "## Context\n",
    "\n",
    "This file will import some data and run EDA given an array of tickers"
   ]
  },
  {
   "cell_type": "code",
   "execution_count": 106,
   "metadata": {},
   "outputs": [],
   "source": [
    "#COMMON\n",
    "import pandas as pd #standard https://pandas.pydata.org/docs/user_guide/dsintro.html#dataframe\n",
    "import numpy as np #standard https://numpy.org/doc/stable/user/index.html#user\n",
    "import datetime #date and time stuff https://docs.python.org/3/library/datetime.html\n",
    "\n",
    "#EDA\n",
    "import sweetviz as sw #1-line EDA https://pypi.org/project/sweetviz/\n",
    "\n",
    "#VIZ\n",
    "import matplotlib.pyplot as plt #graphing/viz https://matplotlib.org/stable/index.html\n",
    "import plotly.express as px #graphing/viz https://plotly.com/python-api-reference/plotly.express.html\n",
    "%matplotlib inline\n",
    "import seaborn as sns #graphing/viz https://seaborn.pydata.org/\n",
    "import altair as alt #graphing/viz https://altair-viz.github.io/\n",
    "\n",
    "#FINANCE\n",
    "import pandas_datareader.data as web #remote data access https://pandas-datareader.readthedocs.io/en/latest/remote_data.html\n",
    "import pandas_datareader as pdr #remote data access https://pandas-datareader.readthedocs.io/en/latest/\n",
    "import ffn #financial functions https://pmorissette.github.io/ffn/#\n",
    "import yfinance as yf #yahoo finance api https://python-yahoofinance.readthedocs.io/en/latest/api.html\n",
    "\n",
    "#TIMESERIES\n",
    "\n",
    "#ML\n"
   ]
  },
  {
   "attachments": {},
   "cell_type": "markdown",
   "metadata": {},
   "source": [
    "## Access data, view, and do some house cleaning"
   ]
  },
  {
   "attachments": {},
   "cell_type": "markdown",
   "metadata": {},
   "source": [
    "### Get stock"
   ]
  },
  {
   "cell_type": "code",
   "execution_count": 107,
   "metadata": {},
   "outputs": [
    {
     "data": {
      "text/html": [
       "<div>\n",
       "<style scoped>\n",
       "    .dataframe tbody tr th:only-of-type {\n",
       "        vertical-align: middle;\n",
       "    }\n",
       "\n",
       "    .dataframe tbody tr th {\n",
       "        vertical-align: top;\n",
       "    }\n",
       "\n",
       "    .dataframe thead th {\n",
       "        text-align: right;\n",
       "    }\n",
       "</style>\n",
       "<table border=\"1\" class=\"dataframe\">\n",
       "  <thead>\n",
       "    <tr style=\"text-align: right;\">\n",
       "      <th></th>\n",
       "      <th>Open</th>\n",
       "      <th>High</th>\n",
       "      <th>Low</th>\n",
       "      <th>Close</th>\n",
       "      <th>Volume</th>\n",
       "      <th>Dividends</th>\n",
       "      <th>Stock Splits</th>\n",
       "    </tr>\n",
       "    <tr>\n",
       "      <th>Date</th>\n",
       "      <th></th>\n",
       "      <th></th>\n",
       "      <th></th>\n",
       "      <th></th>\n",
       "      <th></th>\n",
       "      <th></th>\n",
       "      <th></th>\n",
       "    </tr>\n",
       "  </thead>\n",
       "  <tbody>\n",
       "    <tr>\n",
       "      <th>2018-01-16 00:00:00-05:00</th>\n",
       "      <td>84.848517</td>\n",
       "      <td>85.498303</td>\n",
       "      <td>82.880336</td>\n",
       "      <td>83.200516</td>\n",
       "      <td>36599700</td>\n",
       "      <td>0.0</td>\n",
       "      <td>0.0</td>\n",
       "    </tr>\n",
       "    <tr>\n",
       "      <th>2018-01-17 00:00:00-05:00</th>\n",
       "      <td>83.887962</td>\n",
       "      <td>85.018017</td>\n",
       "      <td>83.577194</td>\n",
       "      <td>84.886177</td>\n",
       "      <td>25621200</td>\n",
       "      <td>0.0</td>\n",
       "      <td>0.0</td>\n",
       "    </tr>\n",
       "    <tr>\n",
       "      <th>2018-01-18 00:00:00-05:00</th>\n",
       "      <td>84.565993</td>\n",
       "      <td>85.385280</td>\n",
       "      <td>84.434153</td>\n",
       "      <td>84.848503</td>\n",
       "      <td>24159700</td>\n",
       "      <td>0.0</td>\n",
       "      <td>0.0</td>\n",
       "    </tr>\n",
       "    <tr>\n",
       "      <th>2018-01-19 00:00:00-05:00</th>\n",
       "      <td>84.886165</td>\n",
       "      <td>85.328772</td>\n",
       "      <td>84.434146</td>\n",
       "      <td>84.754326</td>\n",
       "      <td>36875000</td>\n",
       "      <td>0.0</td>\n",
       "      <td>0.0</td>\n",
       "    </tr>\n",
       "    <tr>\n",
       "      <th>2018-01-22 00:00:00-05:00</th>\n",
       "      <td>84.754316</td>\n",
       "      <td>86.279896</td>\n",
       "      <td>84.509468</td>\n",
       "      <td>86.270477</td>\n",
       "      <td>23601600</td>\n",
       "      <td>0.0</td>\n",
       "      <td>0.0</td>\n",
       "    </tr>\n",
       "    <tr>\n",
       "      <th>...</th>\n",
       "      <td>...</td>\n",
       "      <td>...</td>\n",
       "      <td>...</td>\n",
       "      <td>...</td>\n",
       "      <td>...</td>\n",
       "      <td>...</td>\n",
       "      <td>...</td>\n",
       "    </tr>\n",
       "    <tr>\n",
       "      <th>2023-01-09 00:00:00-05:00</th>\n",
       "      <td>226.449997</td>\n",
       "      <td>231.240005</td>\n",
       "      <td>226.410004</td>\n",
       "      <td>227.119995</td>\n",
       "      <td>27369800</td>\n",
       "      <td>0.0</td>\n",
       "      <td>0.0</td>\n",
       "    </tr>\n",
       "    <tr>\n",
       "      <th>2023-01-10 00:00:00-05:00</th>\n",
       "      <td>227.759995</td>\n",
       "      <td>231.309998</td>\n",
       "      <td>227.330002</td>\n",
       "      <td>228.850006</td>\n",
       "      <td>27033900</td>\n",
       "      <td>0.0</td>\n",
       "      <td>0.0</td>\n",
       "    </tr>\n",
       "    <tr>\n",
       "      <th>2023-01-11 00:00:00-05:00</th>\n",
       "      <td>231.289993</td>\n",
       "      <td>235.949997</td>\n",
       "      <td>231.110001</td>\n",
       "      <td>235.770004</td>\n",
       "      <td>28669300</td>\n",
       "      <td>0.0</td>\n",
       "      <td>0.0</td>\n",
       "    </tr>\n",
       "    <tr>\n",
       "      <th>2023-01-12 00:00:00-05:00</th>\n",
       "      <td>235.259995</td>\n",
       "      <td>239.899994</td>\n",
       "      <td>233.559998</td>\n",
       "      <td>238.509995</td>\n",
       "      <td>27269500</td>\n",
       "      <td>0.0</td>\n",
       "      <td>0.0</td>\n",
       "    </tr>\n",
       "    <tr>\n",
       "      <th>2023-01-13 00:00:00-05:00</th>\n",
       "      <td>237.000000</td>\n",
       "      <td>239.369995</td>\n",
       "      <td>234.919998</td>\n",
       "      <td>239.229996</td>\n",
       "      <td>21317700</td>\n",
       "      <td>0.0</td>\n",
       "      <td>0.0</td>\n",
       "    </tr>\n",
       "  </tbody>\n",
       "</table>\n",
       "<p>1259 rows × 7 columns</p>\n",
       "</div>"
      ],
      "text/plain": [
       "                                 Open        High         Low       Close  \\\n",
       "Date                                                                        \n",
       "2018-01-16 00:00:00-05:00   84.848517   85.498303   82.880336   83.200516   \n",
       "2018-01-17 00:00:00-05:00   83.887962   85.018017   83.577194   84.886177   \n",
       "2018-01-18 00:00:00-05:00   84.565993   85.385280   84.434153   84.848503   \n",
       "2018-01-19 00:00:00-05:00   84.886165   85.328772   84.434146   84.754326   \n",
       "2018-01-22 00:00:00-05:00   84.754316   86.279896   84.509468   86.270477   \n",
       "...                               ...         ...         ...         ...   \n",
       "2023-01-09 00:00:00-05:00  226.449997  231.240005  226.410004  227.119995   \n",
       "2023-01-10 00:00:00-05:00  227.759995  231.309998  227.330002  228.850006   \n",
       "2023-01-11 00:00:00-05:00  231.289993  235.949997  231.110001  235.770004   \n",
       "2023-01-12 00:00:00-05:00  235.259995  239.899994  233.559998  238.509995   \n",
       "2023-01-13 00:00:00-05:00  237.000000  239.369995  234.919998  239.229996   \n",
       "\n",
       "                             Volume  Dividends  Stock Splits  \n",
       "Date                                                          \n",
       "2018-01-16 00:00:00-05:00  36599700        0.0           0.0  \n",
       "2018-01-17 00:00:00-05:00  25621200        0.0           0.0  \n",
       "2018-01-18 00:00:00-05:00  24159700        0.0           0.0  \n",
       "2018-01-19 00:00:00-05:00  36875000        0.0           0.0  \n",
       "2018-01-22 00:00:00-05:00  23601600        0.0           0.0  \n",
       "...                             ...        ...           ...  \n",
       "2023-01-09 00:00:00-05:00  27369800        0.0           0.0  \n",
       "2023-01-10 00:00:00-05:00  27033900        0.0           0.0  \n",
       "2023-01-11 00:00:00-05:00  28669300        0.0           0.0  \n",
       "2023-01-12 00:00:00-05:00  27269500        0.0           0.0  \n",
       "2023-01-13 00:00:00-05:00  21317700        0.0           0.0  \n",
       "\n",
       "[1259 rows x 7 columns]"
      ]
     },
     "execution_count": 107,
     "metadata": {},
     "output_type": "execute_result"
    }
   ],
   "source": [
    "stock = 'MSFT'\n",
    "timeframe = '5y'\n",
    "\n",
    "stock = yf.Ticker(stock).history(period=timeframe)\n",
    "stock"
   ]
  },
  {
   "attachments": {},
   "cell_type": "markdown",
   "metadata": {},
   "source": [
    "### Removing unnecessary data in the datetimes index"
   ]
  },
  {
   "cell_type": "code",
   "execution_count": 108,
   "metadata": {},
   "outputs": [
    {
     "data": {
      "text/plain": [
       "DatetimeIndex(['2018-01-16 00:00:00-05:00', '2018-01-17 00:00:00-05:00',\n",
       "               '2018-01-18 00:00:00-05:00', '2018-01-19 00:00:00-05:00',\n",
       "               '2018-01-22 00:00:00-05:00', '2018-01-23 00:00:00-05:00',\n",
       "               '2018-01-24 00:00:00-05:00', '2018-01-25 00:00:00-05:00',\n",
       "               '2018-01-26 00:00:00-05:00', '2018-01-29 00:00:00-05:00',\n",
       "               ...\n",
       "               '2022-12-30 00:00:00-05:00', '2023-01-03 00:00:00-05:00',\n",
       "               '2023-01-04 00:00:00-05:00', '2023-01-05 00:00:00-05:00',\n",
       "               '2023-01-06 00:00:00-05:00', '2023-01-09 00:00:00-05:00',\n",
       "               '2023-01-10 00:00:00-05:00', '2023-01-11 00:00:00-05:00',\n",
       "               '2023-01-12 00:00:00-05:00', '2023-01-13 00:00:00-05:00'],\n",
       "              dtype='datetime64[ns, America/New_York]', name='Date', length=1259, freq=None)"
      ]
     },
     "execution_count": 108,
     "metadata": {},
     "output_type": "execute_result"
    }
   ],
   "source": [
    "stock.index"
   ]
  },
  {
   "cell_type": "code",
   "execution_count": 109,
   "metadata": {},
   "outputs": [],
   "source": [
    "stock.index = stock.index.strftime('%Y-%m-%d')"
   ]
  },
  {
   "cell_type": "code",
   "execution_count": 110,
   "metadata": {},
   "outputs": [
    {
     "data": {
      "text/html": [
       "<div>\n",
       "<style scoped>\n",
       "    .dataframe tbody tr th:only-of-type {\n",
       "        vertical-align: middle;\n",
       "    }\n",
       "\n",
       "    .dataframe tbody tr th {\n",
       "        vertical-align: top;\n",
       "    }\n",
       "\n",
       "    .dataframe thead th {\n",
       "        text-align: right;\n",
       "    }\n",
       "</style>\n",
       "<table border=\"1\" class=\"dataframe\">\n",
       "  <thead>\n",
       "    <tr style=\"text-align: right;\">\n",
       "      <th></th>\n",
       "      <th>Open</th>\n",
       "      <th>High</th>\n",
       "      <th>Low</th>\n",
       "      <th>Close</th>\n",
       "      <th>Volume</th>\n",
       "      <th>Dividends</th>\n",
       "      <th>Stock Splits</th>\n",
       "    </tr>\n",
       "    <tr>\n",
       "      <th>Date</th>\n",
       "      <th></th>\n",
       "      <th></th>\n",
       "      <th></th>\n",
       "      <th></th>\n",
       "      <th></th>\n",
       "      <th></th>\n",
       "      <th></th>\n",
       "    </tr>\n",
       "  </thead>\n",
       "  <tbody>\n",
       "    <tr>\n",
       "      <th>2018-01-16</th>\n",
       "      <td>84.848517</td>\n",
       "      <td>85.498303</td>\n",
       "      <td>82.880336</td>\n",
       "      <td>83.200516</td>\n",
       "      <td>36599700</td>\n",
       "      <td>0.0</td>\n",
       "      <td>0.0</td>\n",
       "    </tr>\n",
       "    <tr>\n",
       "      <th>2018-01-17</th>\n",
       "      <td>83.887962</td>\n",
       "      <td>85.018017</td>\n",
       "      <td>83.577194</td>\n",
       "      <td>84.886177</td>\n",
       "      <td>25621200</td>\n",
       "      <td>0.0</td>\n",
       "      <td>0.0</td>\n",
       "    </tr>\n",
       "    <tr>\n",
       "      <th>2018-01-18</th>\n",
       "      <td>84.565993</td>\n",
       "      <td>85.385280</td>\n",
       "      <td>84.434153</td>\n",
       "      <td>84.848503</td>\n",
       "      <td>24159700</td>\n",
       "      <td>0.0</td>\n",
       "      <td>0.0</td>\n",
       "    </tr>\n",
       "    <tr>\n",
       "      <th>2018-01-19</th>\n",
       "      <td>84.886165</td>\n",
       "      <td>85.328772</td>\n",
       "      <td>84.434146</td>\n",
       "      <td>84.754326</td>\n",
       "      <td>36875000</td>\n",
       "      <td>0.0</td>\n",
       "      <td>0.0</td>\n",
       "    </tr>\n",
       "    <tr>\n",
       "      <th>2018-01-22</th>\n",
       "      <td>84.754316</td>\n",
       "      <td>86.279896</td>\n",
       "      <td>84.509468</td>\n",
       "      <td>86.270477</td>\n",
       "      <td>23601600</td>\n",
       "      <td>0.0</td>\n",
       "      <td>0.0</td>\n",
       "    </tr>\n",
       "    <tr>\n",
       "      <th>...</th>\n",
       "      <td>...</td>\n",
       "      <td>...</td>\n",
       "      <td>...</td>\n",
       "      <td>...</td>\n",
       "      <td>...</td>\n",
       "      <td>...</td>\n",
       "      <td>...</td>\n",
       "    </tr>\n",
       "    <tr>\n",
       "      <th>2023-01-09</th>\n",
       "      <td>226.449997</td>\n",
       "      <td>231.240005</td>\n",
       "      <td>226.410004</td>\n",
       "      <td>227.119995</td>\n",
       "      <td>27369800</td>\n",
       "      <td>0.0</td>\n",
       "      <td>0.0</td>\n",
       "    </tr>\n",
       "    <tr>\n",
       "      <th>2023-01-10</th>\n",
       "      <td>227.759995</td>\n",
       "      <td>231.309998</td>\n",
       "      <td>227.330002</td>\n",
       "      <td>228.850006</td>\n",
       "      <td>27033900</td>\n",
       "      <td>0.0</td>\n",
       "      <td>0.0</td>\n",
       "    </tr>\n",
       "    <tr>\n",
       "      <th>2023-01-11</th>\n",
       "      <td>231.289993</td>\n",
       "      <td>235.949997</td>\n",
       "      <td>231.110001</td>\n",
       "      <td>235.770004</td>\n",
       "      <td>28669300</td>\n",
       "      <td>0.0</td>\n",
       "      <td>0.0</td>\n",
       "    </tr>\n",
       "    <tr>\n",
       "      <th>2023-01-12</th>\n",
       "      <td>235.259995</td>\n",
       "      <td>239.899994</td>\n",
       "      <td>233.559998</td>\n",
       "      <td>238.509995</td>\n",
       "      <td>27269500</td>\n",
       "      <td>0.0</td>\n",
       "      <td>0.0</td>\n",
       "    </tr>\n",
       "    <tr>\n",
       "      <th>2023-01-13</th>\n",
       "      <td>237.000000</td>\n",
       "      <td>239.369995</td>\n",
       "      <td>234.919998</td>\n",
       "      <td>239.229996</td>\n",
       "      <td>21317700</td>\n",
       "      <td>0.0</td>\n",
       "      <td>0.0</td>\n",
       "    </tr>\n",
       "  </tbody>\n",
       "</table>\n",
       "<p>1259 rows × 7 columns</p>\n",
       "</div>"
      ],
      "text/plain": [
       "                  Open        High         Low       Close    Volume  \\\n",
       "Date                                                                   \n",
       "2018-01-16   84.848517   85.498303   82.880336   83.200516  36599700   \n",
       "2018-01-17   83.887962   85.018017   83.577194   84.886177  25621200   \n",
       "2018-01-18   84.565993   85.385280   84.434153   84.848503  24159700   \n",
       "2018-01-19   84.886165   85.328772   84.434146   84.754326  36875000   \n",
       "2018-01-22   84.754316   86.279896   84.509468   86.270477  23601600   \n",
       "...                ...         ...         ...         ...       ...   \n",
       "2023-01-09  226.449997  231.240005  226.410004  227.119995  27369800   \n",
       "2023-01-10  227.759995  231.309998  227.330002  228.850006  27033900   \n",
       "2023-01-11  231.289993  235.949997  231.110001  235.770004  28669300   \n",
       "2023-01-12  235.259995  239.899994  233.559998  238.509995  27269500   \n",
       "2023-01-13  237.000000  239.369995  234.919998  239.229996  21317700   \n",
       "\n",
       "            Dividends  Stock Splits  \n",
       "Date                                 \n",
       "2018-01-16        0.0           0.0  \n",
       "2018-01-17        0.0           0.0  \n",
       "2018-01-18        0.0           0.0  \n",
       "2018-01-19        0.0           0.0  \n",
       "2018-01-22        0.0           0.0  \n",
       "...               ...           ...  \n",
       "2023-01-09        0.0           0.0  \n",
       "2023-01-10        0.0           0.0  \n",
       "2023-01-11        0.0           0.0  \n",
       "2023-01-12        0.0           0.0  \n",
       "2023-01-13        0.0           0.0  \n",
       "\n",
       "[1259 rows x 7 columns]"
      ]
     },
     "execution_count": 110,
     "metadata": {},
     "output_type": "execute_result"
    }
   ],
   "source": [
    "stock"
   ]
  },
  {
   "attachments": {},
   "cell_type": "markdown",
   "metadata": {},
   "source": [
    "### See if close is actually adj. close (adjusted for dividends and stock splits)"
   ]
  },
  {
   "attachments": {},
   "cell_type": "markdown",
   "metadata": {},
   "source": [
    "from yahoo finance we can see that on the 16th of November 2022, there was a dividend. i.e., adj. close and close deviate before that date. the data show that the number should be equal to 241.29, let's check"
   ]
  },
  {
   "cell_type": "code",
   "execution_count": 111,
   "metadata": {},
   "outputs": [
    {
     "name": "stdout",
     "output_type": "stream",
     "text": [
      "Open            2.449696e+02\n",
      "High            2.463059e+02\n",
      "Low             2.393555e+02\n",
      "Close           2.412900e+02\n",
      "Volume          3.139010e+07\n",
      "Dividends       0.000000e+00\n",
      "Stock Splits    0.000000e+00\n",
      "Name: 2022-11-15, dtype: float64\n"
     ]
    }
   ],
   "source": [
    "rows = stock.loc['2022-11-15']\n",
    "print(rows)"
   ]
  },
  {
   "attachments": {},
   "cell_type": "markdown",
   "metadata": {},
   "source": [
    "the number is correct - so we can use the close column as an actual price that is adjusted for dividends and splits etc."
   ]
  },
  {
   "attachments": {},
   "cell_type": "markdown",
   "metadata": {},
   "source": [
    "## Central Limit Theorem & Descriptive Statistics"
   ]
  },
  {
   "attachments": {},
   "cell_type": "markdown",
   "metadata": {},
   "source": [
    "### Extract only the close price from stock"
   ]
  },
  {
   "cell_type": "code",
   "execution_count": 112,
   "metadata": {},
   "outputs": [
    {
     "data": {
      "text/plain": [
       "Date\n",
       "2018-01-16     83.200516\n",
       "2018-01-17     84.886177\n",
       "2018-01-18     84.848503\n",
       "2018-01-19     84.754326\n",
       "2018-01-22     86.270477\n",
       "                 ...    \n",
       "2023-01-09    227.119995\n",
       "2023-01-10    228.850006\n",
       "2023-01-11    235.770004\n",
       "2023-01-12    238.509995\n",
       "2023-01-13    239.229996\n",
       "Name: Close, Length: 1259, dtype: float64"
      ]
     },
     "execution_count": 112,
     "metadata": {},
     "output_type": "execute_result"
    }
   ],
   "source": [
    "prices = stock['Close']\n",
    "prices"
   ]
  },
  {
   "attachments": {},
   "cell_type": "markdown",
   "metadata": {},
   "source": [
    "### Summary statistics - note these are not very valuable untill further EDA is done!"
   ]
  },
  {
   "cell_type": "code",
   "execution_count": 113,
   "metadata": {},
   "outputs": [
    {
     "data": {
      "text/plain": [
       "count    1259.000000\n",
       "mean      191.199874\n",
       "std        75.062536\n",
       "min        80.055176\n",
       "25%       116.415138\n",
       "50%       198.814697\n",
       "75%       253.122589\n",
       "max       339.924835\n",
       "Name: Close, dtype: float64"
      ]
     },
     "execution_count": 113,
     "metadata": {},
     "output_type": "execute_result"
    }
   ],
   "source": [
    "prices.describe()"
   ]
  },
  {
   "attachments": {},
   "cell_type": "markdown",
   "metadata": {},
   "source": [
    "Find sample mean"
   ]
  },
  {
   "cell_type": "code",
   "execution_count": 114,
   "metadata": {},
   "outputs": [
    {
     "data": {
      "text/plain": [
       "191.19987387804875"
      ]
     },
     "execution_count": 114,
     "metadata": {},
     "output_type": "execute_result"
    }
   ],
   "source": [
    "prices.mean()"
   ]
  },
  {
   "attachments": {},
   "cell_type": "markdown",
   "metadata": {},
   "source": [
    "Find median"
   ]
  },
  {
   "cell_type": "code",
   "execution_count": 115,
   "metadata": {},
   "outputs": [
    {
     "data": {
      "text/plain": [
       "198.814697265625"
      ]
     },
     "execution_count": 115,
     "metadata": {},
     "output_type": "execute_result"
    }
   ],
   "source": [
    "prices.median()"
   ]
  },
  {
   "attachments": {},
   "cell_type": "markdown",
   "metadata": {},
   "source": [
    "Find mode"
   ]
  },
  {
   "cell_type": "code",
   "execution_count": 116,
   "metadata": {},
   "outputs": [
    {
     "data": {
      "text/plain": [
       "0      89.883179\n",
       "1      95.841164\n",
       "2      98.484169\n",
       "3     101.265617\n",
       "4     101.578560\n",
       "5     101.942902\n",
       "6     104.518417\n",
       "7     106.559746\n",
       "8     131.591827\n",
       "9     133.241165\n",
       "10    133.822464\n",
       "11    134.131546\n",
       "12    134.771988\n",
       "13    153.031235\n",
       "14    203.575378\n",
       "15    215.248322\n",
       "16    233.581741\n",
       "17    241.439575\n",
       "18    252.829330\n",
       "19    291.579407\n",
       "20    297.333191\n",
       "Name: Close, dtype: float64"
      ]
     },
     "execution_count": 116,
     "metadata": {},
     "output_type": "execute_result"
    }
   ],
   "source": [
    "prices.mode()"
   ]
  },
  {
   "attachments": {},
   "cell_type": "markdown",
   "metadata": {},
   "source": [
    "#### Create histogram of returns"
   ]
  },
  {
   "attachments": {},
   "cell_type": "markdown",
   "metadata": {},
   "source": [
    "calculate returns"
   ]
  },
  {
   "cell_type": "code",
   "execution_count": 117,
   "metadata": {},
   "outputs": [
    {
     "data": {
      "text/plain": [
       "Date\n",
       "2018-01-16         NaN\n",
       "2018-01-17    0.020260\n",
       "2018-01-18   -0.000444\n",
       "2018-01-19   -0.001110\n",
       "2018-01-22    0.017889\n",
       "                ...   \n",
       "2023-01-09    0.009736\n",
       "2023-01-10    0.007617\n",
       "2023-01-11    0.030238\n",
       "2023-01-12    0.011621\n",
       "2023-01-13    0.003019\n",
       "Name: Close, Length: 1259, dtype: float64"
      ]
     },
     "execution_count": 117,
     "metadata": {},
     "output_type": "execute_result"
    }
   ],
   "source": [
    "prices_return=prices.pct_change(1)\n",
    "prices_return"
   ]
  },
  {
   "cell_type": "code",
   "execution_count": 118,
   "metadata": {},
   "outputs": [
    {
     "data": {
      "text/plain": [
       "count    1258.000000\n",
       "mean        0.001032\n",
       "std         0.019619\n",
       "min        -0.147390\n",
       "25%        -0.008360\n",
       "50%         0.001289\n",
       "75%         0.010958\n",
       "max         0.142169\n",
       "Name: Close, dtype: float64"
      ]
     },
     "execution_count": 118,
     "metadata": {},
     "output_type": "execute_result"
    }
   ],
   "source": [
    "prices_return.describe()"
   ]
  },
  {
   "attachments": {},
   "cell_type": "markdown",
   "metadata": {},
   "source": [
    "Create histogram - we use Sturge's rule for # of bins"
   ]
  },
  {
   "cell_type": "code",
   "execution_count": 119,
   "metadata": {},
   "outputs": [
    {
     "data": {
      "text/plain": [
       "24.0"
      ]
     },
     "execution_count": 119,
     "metadata": {},
     "output_type": "execute_result"
    }
   ],
   "source": [
    "sturge = round(1+3.22*np.log(prices.shape[0]),1)\n",
    "sturge"
   ]
  },
  {
   "cell_type": "code",
   "execution_count": 120,
   "metadata": {},
   "outputs": [
    {
     "data": {
      "image/png": "[encoded data removed]",
      "text/plain": [
       "<Figure size 640x480 with 1 Axes>"
      ]
     },
     "metadata": {},
     "output_type": "display_data"
    }
   ],
   "source": [
    "prices_return.hist(bins=21);\n",
    "_ = plt.xlabel('Returns')\n",
    "_ = plt.ylabel('Frequency')\n",
    "_ = plt.title('Returns Frequency')\n",
    "_ = plt.axvline(prices_return.mean(), color='k', linestyle='dashed', linewidth=1, label ='mean')\n",
    "_ = plt.axvline(prices_return.median(), color='g', linewidth=0.5,label='median')\n",
    "plt.legend();"
   ]
  },
  {
   "attachments": {},
   "cell_type": "markdown",
   "metadata": {},
   "source": [
    "#### Create box plot of close price"
   ]
  },
  {
   "cell_type": "code",
   "execution_count": 121,
   "metadata": {},
   "outputs": [
    {
     "data": {
      "text/plain": [
       "<AxesSubplot: xlabel='Close'>"
      ]
     },
     "execution_count": 121,
     "metadata": {},
     "output_type": "execute_result"
    },
    {
     "data": {
      "image/png": "[encoded data removed]",
      "text/plain": [
       "<Figure size 640x480 with 1 Axes>"
      ]
     },
     "metadata": {},
     "output_type": "display_data"
    }
   ],
   "source": [
    "sns.boxplot(x=prices, width = 0.4)"
   ]
  },
  {
   "attachments": {},
   "cell_type": "markdown",
   "metadata": {},
   "source": [
    "#### Skew and kurtosis"
   ]
  },
  {
   "attachments": {},
   "cell_type": "markdown",
   "metadata": {},
   "source": [
    "Skew: Skewness is a valuable metric for determining the absence of symmetry since it is crucial to comprehend symmetry. When discussing skewness, it is possible for the information to be skewed to the left, to the right, or to the centre."
   ]
  },
  {
   "cell_type": "code",
   "execution_count": 122,
   "metadata": {},
   "outputs": [
    {
     "name": "stdout",
     "output_type": "stream",
     "text": [
      "-0.024702868759312286\n",
      "returns are skewed to the left\n"
     ]
    }
   ],
   "source": [
    "skew = prices_return.skew()\n",
    "print(skew)\n",
    "if skew > 0:\n",
    "    print(\"returns are skewed to the right\")\n",
    "else:\n",
    "    print(\"returns are skewed to the left\")"
   ]
  },
  {
   "attachments": {},
   "cell_type": "markdown",
   "metadata": {},
   "source": [
    "Kurtosis: Kurtosis is the measure of the tails in a normal distribution. A high kurtosis is related to having heavy tails, which means outliers. A low kurtosis means lack of outliers which is light tails. It is uncommon to have a uniform distribution.\n",
    "\n",
    "There are three options of kurtosis for interpreting the result.\n",
    "\n",
    "- Leptokurtic: the value of kurtosis is greater than (>) than zero. The interpretation is that the data is centered around the mean.\n",
    "\n",
    "- Mesokurtic: the value of the kurtosis is equal (=) to zero. This represents a normal distribution\n",
    "\n",
    "- Platykurtic: the value of the kurtosis is less than zero.The interpretation is that the data is far from the mean"
   ]
  },
  {
   "cell_type": "code",
   "execution_count": 123,
   "metadata": {},
   "outputs": [
    {
     "name": "stdout",
     "output_type": "stream",
     "text": [
      "6.636910039426098\n",
      "returns are centered around the mean\n"
     ]
    }
   ],
   "source": [
    "kurt = prices_return.kurtosis()\n",
    "print(kurt)\n",
    "if kurt > 0:\n",
    "    print(\"returns are centered around the mean\")\n",
    "if kurt == 0:\n",
    "    print(\"returns are normally distributed\")\n",
    "if kurt < 0:\n",
    "    print(\"returns are far from the mean\")"
   ]
  },
  {
   "cell_type": "code",
   "execution_count": null,
   "metadata": {},
   "outputs": [],
   "source": []
  }
 ],
 "metadata": {
  "kernelspec": {
   "display_name": ".venv",
   "language": "python",
   "name": "python3"
  },
  "language_info": {
   "codemirror_mode": {
    "name": "ipython",
    "version": 3
   },
   "file_extension": ".py",
   "mimetype": "text/x-python",
   "name": "python",
   "nbconvert_exporter": "python",
   "pygments_lexer": "ipython3",
   "version": "3.11.0"
  },
  "orig_nbformat": 4,
  "vscode": {
   "interpreter": {
    "hash": "735baadc5d841baf50faeaec8b67b517d39526163fd9dbc70437098943b94fac"
   }
  }
 },
 "nbformat": 4,
 "nbformat_minor": 2
}
